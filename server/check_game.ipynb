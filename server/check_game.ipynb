{
 "cells": [
  {
   "cell_type": "code",
   "execution_count": 1,
   "metadata": {},
   "outputs": [],
   "source": [
    "from game_objects import State"
   ]
  },
  {
   "cell_type": "code",
   "execution_count": 2,
   "metadata": {},
   "outputs": [],
   "source": [
    "player1 = \"Aranan\"\n",
    "player2 = \"Laurene\"\n",
    "game = State(player1, player2)"
   ]
  },
  {
   "cell_type": "code",
   "execution_count": 7,
   "metadata": {},
   "outputs": [
    {
     "name": "stdout",
     "output_type": "stream",
     "text": [
      "Turn successful\n",
      "Rock 0 still in play\n",
      "None\n",
      "{'game': [{'player': [{'number': 8, 'color': 'red'}, {'number': 4, 'color': 'violet'}], 'opps': [{'number': 5, 'color': 'yellow'}], 'winner': None}, {'player': [], 'opps': [], 'winner': None}, {'player': [], 'opps': [], 'winner': None}, {'player': [], 'opps': [], 'winner': None}, {'player': [], 'opps': [], 'winner': None}, {'player': [], 'opps': [], 'winner': None}, {'player': [], 'opps': [], 'winner': None}, {'player': [], 'opps': [], 'winner': None}, {'player': [], 'opps': [], 'winner': None}], 'currentPlayer': False, 'deck_length': 39, 'cards': [{'number': 2, 'color': 'blue'}, {'number': 5, 'color': 'violet'}, {'number': 8, 'color': 'yellow'}, {'number': 6, 'color': 'red'}, {'number': 3, 'color': 'violet'}, {'number': 8, 'color': 'orange'}], 'opps_hand_length': 6}\n"
     ]
    }
   ],
   "source": [
    "### Play turn\n",
    "current_player = game.currentPlayer\n",
    "print(game.playTurn(0,0).message)\n",
    "print(game.checkIfRockClaimed(0).message)\n",
    "print(game.hasSomeoneWon())\n",
    "print(game.returnState(current_player))\n",
    "\n"
   ]
  },
  {
   "cell_type": "code",
   "execution_count": 8,
   "metadata": {},
   "outputs": [
    {
     "data": {
      "text/plain": [
       "{'game': [{'opps': [{'number': 8, 'color': 'red'},\n",
       "    {'number': 4, 'color': 'violet'}],\n",
       "   'player': [{'number': 5, 'color': 'yellow'}],\n",
       "   'winner': None},\n",
       "  {'opps': [], 'player': [], 'winner': None},\n",
       "  {'opps': [], 'player': [], 'winner': None},\n",
       "  {'opps': [], 'player': [], 'winner': None},\n",
       "  {'opps': [], 'player': [], 'winner': None},\n",
       "  {'opps': [], 'player': [], 'winner': None},\n",
       "  {'opps': [], 'player': [], 'winner': None},\n",
       "  {'opps': [], 'player': [], 'winner': None},\n",
       "  {'opps': [], 'player': [], 'winner': None}],\n",
       " 'currentPlayer': True,\n",
       " 'deck_length': 39,\n",
       " 'cards': [{'number': 5, 'color': 'red'},\n",
       "  {'number': 4, 'color': 'red'},\n",
       "  {'number': 2, 'color': 'orange'},\n",
       "  {'number': 2, 'color': 'yellow'},\n",
       "  {'number': 9, 'color': 'blue'},\n",
       "  {'number': 7, 'color': 'green'}],\n",
       " 'opps_hand_length': 6}"
      ]
     },
     "execution_count": 8,
     "metadata": {},
     "output_type": "execute_result"
    }
   ],
   "source": [
    "game.returnState(\"Laurene\")"
   ]
  },
  {
   "cell_type": "code",
   "execution_count": null,
   "metadata": {},
   "outputs": [],
   "source": [
    "game.rocks[0].hands"
   ]
  }
 ],
 "metadata": {
  "kernelspec": {
   "display_name": "shot-tot-clone",
   "language": "python",
   "name": "python3"
  },
  "language_info": {
   "codemirror_mode": {
    "name": "ipython",
    "version": 3
   },
   "file_extension": ".py",
   "mimetype": "text/x-python",
   "name": "python",
   "nbconvert_exporter": "python",
   "pygments_lexer": "ipython3",
   "version": "3.12.1"
  },
  "orig_nbformat": 4
 },
 "nbformat": 4,
 "nbformat_minor": 2
}
