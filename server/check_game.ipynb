{
 "cells": [
  {
   "cell_type": "code",
   "execution_count": 1,
   "metadata": {},
   "outputs": [],
   "source": [
    "from game_objects import State"
   ]
  },
  {
   "cell_type": "code",
   "execution_count": 2,
   "metadata": {},
   "outputs": [],
   "source": [
    "player1 = \"player1\"\n",
    "player2 = \"player2\"\n",
    "game = State(\"player1\", \"player2\")"
   ]
  },
  {
   "cell_type": "code",
   "execution_count": 3,
   "metadata": {},
   "outputs": [],
   "source": [
    "for i in range(5):\n",
    "    result = game.playTurn(0,0)"
   ]
  },
  {
   "cell_type": "code",
   "execution_count": 4,
   "metadata": {},
   "outputs": [
    {
     "data": {
      "text/plain": [
       "{'player1': {'number': 1, 'color': 'blue'},\n",
       " 'rockIndex': 0,\n",
       " 'rockWinner': None,\n",
       " 'handType': None,\n",
       " 'currentPLayer': 'player2'}"
      ]
     },
     "execution_count": 4,
     "metadata": {},
     "output_type": "execute_result"
    }
   ],
   "source": [
    "result"
   ]
  },
  {
   "cell_type": "code",
   "execution_count": 5,
   "metadata": {},
   "outputs": [
    {
     "data": {
      "text/plain": [
       "{'player1': [{'number': 5, 'color': 'orange'},\n",
       "  {'number': 7, 'color': 'violet'},\n",
       "  {'number': 2, 'color': 'yellow'}],\n",
       " 'player2': [{'number': 9, 'color': 'green'},\n",
       "  {'number': 1, 'color': 'yellow'},\n",
       "  {'number': 8, 'color': 'blue'}]}"
      ]
     },
     "execution_count": 5,
     "metadata": {},
     "output_type": "execute_result"
    }
   ],
   "source": [
    "game.rocks[0].hands"
   ]
  }
 ],
 "metadata": {
  "kernelspec": {
   "display_name": "shot-tot-clone",
   "language": "python",
   "name": "python3"
  },
  "language_info": {
   "codemirror_mode": {
    "name": "ipython",
    "version": 3
   },
   "file_extension": ".py",
   "mimetype": "text/x-python",
   "name": "python",
   "nbconvert_exporter": "python",
   "pygments_lexer": "ipython3",
   "version": "3.12.1"
  },
  "orig_nbformat": 4
 },
 "nbformat": 4,
 "nbformat_minor": 2
}
